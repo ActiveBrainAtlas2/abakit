{
 "cells": [
  {
   "cell_type": "markdown",
   "id": "purple-potato",
   "metadata": {},
   "source": [
    "# Landmark Registration with Linear Transformations"
   ]
  },
  {
   "cell_type": "markdown",
   "id": "frozen-ceramic",
   "metadata": {},
   "source": [
    "## Test Data Generation"
   ]
  },
  {
   "cell_type": "code",
   "execution_count": null,
   "id": "faced-attitude",
   "metadata": {},
   "outputs": [],
   "source": [
    "import numpy as np\n",
    "np.random.seed(42)\n",
    "\n",
    "fixed_landmark = np.random.randn(5, 3)\n",
    "fixed_landmark"
   ]
  },
  {
   "cell_type": "code",
   "execution_count": null,
   "id": "metric-contribution",
   "metadata": {},
   "outputs": [],
   "source": [
    "from scipy.spatial.transform import Rotation\n",
    "\n",
    "center = fixed_landmark.mean(axis=0)\n",
    "noise = np.random.randn(*fixed_landmark.shape) * 0.1\n",
    "rotation = Rotation.random().as_matrix()\n",
    "scaling = np.diag([0.8, 1, 1.2])\n",
    "moving_landmark = (fixed_landmark - center) @ scaling @ rotation + center + noise\n",
    "moving_landmark"
   ]
  },
  {
   "cell_type": "code",
   "execution_count": null,
   "id": "appropriate-value",
   "metadata": {},
   "outputs": [],
   "source": [
    "import matplotlib.pyplot as plt\n",
    "import pandas as pd\n",
    "import plotly.express as px\n",
    "\n",
    "def plot_point_sets_3d(point_sets):\n",
    "    df = pd.DataFrame()\n",
    "    for data, label in point_sets:\n",
    "        df_cur = pd.DataFrame(data, columns=['x', 'y', 'z'])\n",
    "        df_cur['label'] = label\n",
    "        df = df.append(df_cur, ignore_index=True)\n",
    "    \n",
    "    fig = px.scatter_3d(df, x='x', y='y', z='z', color='label')\n",
    "    return fig"
   ]
  },
  {
   "cell_type": "code",
   "execution_count": null,
   "id": "extreme-bacon",
   "metadata": {},
   "outputs": [],
   "source": [
    "plot_point_sets_3d([\n",
    "    (fixed_landmark, 'fixed landmark'),\n",
    "    (moving_landmark, 'moving landmark')\n",
    "])"
   ]
  },
  {
   "cell_type": "markdown",
   "id": "surrounded-library",
   "metadata": {},
   "source": [
    "## Landmark Registration"
   ]
  },
  {
   "cell_type": "code",
   "execution_count": null,
   "id": "framed-moderator",
   "metadata": {},
   "outputs": [],
   "source": [
    "import abakit.registration as reg\n",
    "\n",
    "import torch\n",
    "torch.set_default_dtype(torch.float64)\n",
    "\n",
    "registration = reg.LandmarkRegistration(\n",
    "    fixed_landmark,\n",
    "    moving_landmark\n",
    ")\n",
    "\n",
    "transform = reg.LandmarkAffineTransform()\n",
    "registration.set_transform(transform)\n",
    "registration.set_similarity(reg.MSESimilarity())\n",
    "registration.set_optimizer_class(torch.optim.Adam)\n",
    "\n",
    "registration.run()"
   ]
  },
  {
   "cell_type": "code",
   "execution_count": null,
   "id": "color-drinking",
   "metadata": {},
   "outputs": [],
   "source": [
    "moving_landmark_transformed = transform.transform_numpy(moving_landmark)\n",
    "moving_landmark_transformed"
   ]
  },
  {
   "cell_type": "code",
   "execution_count": null,
   "id": "collect-database",
   "metadata": {},
   "outputs": [],
   "source": [
    "plot_point_sets_3d([\n",
    "    (fixed_landmark, 'fixed landmark'),\n",
    "    (moving_landmark_transformed, 'moving landmark transformed')\n",
    "])"
   ]
  },
  {
   "cell_type": "markdown",
   "id": "adopted-tuition",
   "metadata": {},
   "source": [
    "## Transformation Parameters"
   ]
  },
  {
   "cell_type": "code",
   "execution_count": null,
   "id": "extended-elephant",
   "metadata": {},
   "outputs": [],
   "source": [
    "a_mat = transform.get_linear_matrix()\n",
    "a_mat"
   ]
  },
  {
   "cell_type": "code",
   "execution_count": null,
   "id": "fabulous-maintenance",
   "metadata": {},
   "outputs": [],
   "source": [
    "t = transform.get_translation()\n",
    "t"
   ]
  },
  {
   "cell_type": "code",
   "execution_count": null,
   "id": "beginning-advocate",
   "metadata": {},
   "outputs": [],
   "source": [
    "moving_landmark @ a_mat + t"
   ]
  },
  {
   "cell_type": "code",
   "execution_count": null,
   "id": "aboriginal-century",
   "metadata": {},
   "outputs": [],
   "source": [
    "moving_landmark_transformed"
   ]
  }
 ],
 "metadata": {
  "kernelspec": {
   "display_name": "Python 3",
   "language": "python",
   "name": "python3"
  },
  "language_info": {
   "codemirror_mode": {
    "name": "ipython",
    "version": 3
   },
   "file_extension": ".py",
   "mimetype": "text/x-python",
   "name": "python",
   "nbconvert_exporter": "python",
   "pygments_lexer": "ipython3",
   "version": "3.9.1"
  }
 },
 "nbformat": 4,
 "nbformat_minor": 5
}
